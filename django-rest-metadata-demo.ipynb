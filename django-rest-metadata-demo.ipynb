{
 "cells": [
  {
   "cell_type": "markdown",
   "metadata": {
    "slideshow": {
     "slide_type": "slide"
    }
   },
   "source": [
    "# Generate a RestAPI for Metadata with Django\n",
    "\n",
    "Philipp S. Sommer\n",
    "\n",
    "Helmholtz Coastal Data Center (HCDC)\n",
    "Helmholtz-Zentrum Geesthacht, Institute of Coastal Research"
   ]
  },
  {
   "cell_type": "markdown",
   "metadata": {
    "slideshow": {
     "slide_type": "slide"
    }
   },
   "source": [
    "## What's the problem with CSW?\n",
    "\n",
    "- it's XML!\n",
    "- too complicated to use for scientists or web development\n",
    "\n",
    "&rarr; Provide metadata through RestAPI"
   ]
  },
  {
   "cell_type": "markdown",
   "metadata": {
    "slideshow": {
     "slide_type": "fragment"
    }
   },
   "source": [
    "### Examples:\n",
    "- [CERA (DKRZ)](https://cera-www.dkrz.de/WDCC/ui/cerasearch/cerarest/entry?acronym=DKRZ_LTA_706_ds00002)\n",
    "- [O2A (AWI)](https://dashboard.awi.de/de.awi.data.ws/api/)"
   ]
  },
  {
   "cell_type": "markdown",
   "metadata": {
    "slideshow": {
     "slide_type": "slide"
    }
   },
   "source": [
    "## What is a RestAPI\n",
    "\n",
    "- [official definition at restfulapi.net](https://restfulapi.net/)\n",
    "- common implementation:\n",
    "    - provide JSON-formatted data (or other formats) via `GET` request\n",
    "    - alter data on the server via `PUT` request\n",
    "    - do something via `POST` request"
   ]
  },
  {
   "cell_type": "markdown",
   "metadata": {
    "slideshow": {
     "slide_type": "slide"
    }
   },
   "source": [
    "## Purpose of this talk\n",
    "\n",
    "Provide a simple and basic example from scratch to show the functionality of serving metadata via RestAPI."
   ]
  },
  {
   "cell_type": "markdown",
   "metadata": {
    "slideshow": {
     "slide_type": "fragment"
    }
   },
   "source": [
    "### Requirements to run this notebook\n",
    "\n",
    "- `linux` or `osx`\n",
    "- `django`\n",
    "- `djangorestframework`, for the rest api\n",
    "- `uritemplate`, for generating an openAPI schema\n",
    "\n",
    "and for generating a graph of the database_\n",
    "- `graphviz`\n",
    "- `django-extensions`\n",
    "\n",
    "Install everything via:\n",
    "\n",
    "```bash\n",
    "conda create -n django-metadata -c conda-forge django-extensions graphviz uritemplate djangorestframework\n",
    "```"
   ]
  },
  {
   "cell_type": "code",
   "execution_count": null,
   "metadata": {
    "slideshow": {
     "slide_type": "skip"
    }
   },
   "outputs": [],
   "source": [
    "rm -r django-metadata-api"
   ]
  },
  {
   "cell_type": "markdown",
   "metadata": {
    "slideshow": {
     "slide_type": "slide"
    }
   },
   "source": [
    "## Initialize the django-metadata-api project"
   ]
  },
  {
   "cell_type": "code",
   "execution_count": null,
   "metadata": {
    "slideshow": {
     "slide_type": "-"
    }
   },
   "outputs": [],
   "source": [
    "!mkdir django-metadata-api\n",
    "!django-admin startproject django_metadata_api django-metadata-api"
   ]
  },
  {
   "cell_type": "code",
   "execution_count": null,
   "metadata": {},
   "outputs": [],
   "source": [
    "cd django-metadata-api"
   ]
  },
  {
   "cell_type": "markdown",
   "metadata": {
    "slideshow": {
     "slide_type": "fragment"
    }
   },
   "source": [
    "### Create a django app in this project\n",
    "\n",
    "We call it `api`. Here we will do all our work."
   ]
  },
  {
   "cell_type": "code",
   "execution_count": null,
   "metadata": {},
   "outputs": [],
   "source": [
    "!python manage.py startapp api"
   ]
  },
  {
   "cell_type": "markdown",
   "metadata": {
    "slideshow": {
     "slide_type": "subslide"
    }
   },
   "source": [
    "## Make the first migration\n",
    "\n",
    "This will generate an sqlite3 database (but we could also use something else...)"
   ]
  },
  {
   "cell_type": "code",
   "execution_count": null,
   "metadata": {},
   "outputs": [],
   "source": [
    "!python manage.py migrate"
   ]
  },
  {
   "cell_type": "markdown",
   "metadata": {
    "slideshow": {
     "slide_type": "subslide"
    }
   },
   "source": [
    "## The django project structure"
   ]
  },
  {
   "cell_type": "code",
   "execution_count": null,
   "metadata": {},
   "outputs": [],
   "source": [
    "!tree "
   ]
  },
  {
   "cell_type": "markdown",
   "metadata": {
    "slideshow": {
     "slide_type": "slide"
    }
   },
   "source": [
    "## The project settings"
   ]
  },
  {
   "cell_type": "code",
   "execution_count": null,
   "metadata": {
    "scrolled": false
   },
   "outputs": [],
   "source": [
    "!cat django_metadata_api/settings.py"
   ]
  },
  {
   "cell_type": "markdown",
   "metadata": {
    "slideshow": {
     "slide_type": "subslide"
    }
   },
   "source": [
    "## Add the necessary apps to the settings"
   ]
  },
  {
   "cell_type": "code",
   "execution_count": null,
   "metadata": {},
   "outputs": [],
   "source": [
    "%%writefile -a django_metadata_api/settings.py\n",
    "\n",
    "INSTALLED_APPS += [\n",
    "    \"api\",\n",
    "    \"rest_framework\",\n",
    "    \"django_extensions\",\n",
    "]"
   ]
  },
  {
   "cell_type": "markdown",
   "metadata": {
    "slideshow": {
     "slide_type": "slide"
    }
   },
   "source": [
    "## Django models\n",
    "\n",
    "Each `Model` (inherits the `django.db.models.Model` class) defines a table in our (sqlite3) database. The `fields` of each model correspond to the columns of the database table."
   ]
  },
  {
   "cell_type": "markdown",
   "metadata": {
    "slideshow": {
     "slide_type": "fragment"
    }
   },
   "source": [
    "Initially, there are no models defined."
   ]
  },
  {
   "cell_type": "code",
   "execution_count": null,
   "metadata": {},
   "outputs": [],
   "source": [
    "!cat api/models.py"
   ]
  },
  {
   "cell_type": "markdown",
   "metadata": {
    "slideshow": {
     "slide_type": "subslide"
    }
   },
   "source": [
    "## Creating models\n",
    "\n",
    "So let's define some."
   ]
  },
  {
   "cell_type": "code",
   "execution_count": null,
   "metadata": {},
   "outputs": [],
   "source": [
    "%%writefile api/models.py\n",
    "\n",
    "from django.db import models\n",
    "\n",
    "\n",
    "class Institution(models.Model):\n",
    "    \"\"\"A research institution.\"\"\"\n",
    "\n",
    "    name = models.CharField(\n",
    "        max_length=250,\n",
    "        help_text=\"Name of the institution\",\n",
    "    )\n",
    "    \n",
    "    abbreviation = models.CharField(\n",
    "        max_length=10, \n",
    "        help_text=\"Abbreviation of the institution\"\n",
    "    )\n",
    "    \n",
    "    def __str__(self):\n",
    "        return f\"{self.name} ({self.abbreviation})\"\n"
   ]
  },
  {
   "cell_type": "markdown",
   "metadata": {
    "slideshow": {
     "slide_type": "subslide"
    }
   },
   "source": [
    "## Django models\n",
    "\n",
    "and some more"
   ]
  },
  {
   "cell_type": "code",
   "execution_count": null,
   "metadata": {},
   "outputs": [],
   "source": [
    "%%writefile -a api/models.py\n",
    "\n",
    "class Person(models.Model):\n",
    "    \"\"\"A person.\"\"\"\n",
    "    \n",
    "    first_name = models.CharField(\n",
    "        max_length=50,\n",
    "        help_text=\"First name of the person\"\n",
    "    )\n",
    "    \n",
    "    last_name = models.CharField(\n",
    "        max_length=50,\n",
    "        help_text=\"Last name of the person\"\n",
    "    )\n",
    "    \n",
    "    email = models.EmailField(\n",
    "        max_length=255,\n",
    "        help_text=\"Email address of the person.\",\n",
    "    )\n",
    "    \n",
    "    institution = models.ForeignKey(\n",
    "        Institution,\n",
    "        on_delete=models.PROTECT,\n",
    "        help_text=\"Research institution of the person.\"\n",
    "    )\n",
    "    \n",
    "    def __str__(self):\n",
    "        return f\"{self.first_name} {self.last_name} ({self.institution.abbreviation})\"\n"
   ]
  },
  {
   "cell_type": "markdown",
   "metadata": {
    "slideshow": {
     "slide_type": "subslide"
    }
   },
   "source": [
    "## Django models\n",
    "\n",
    "and some more"
   ]
  },
  {
   "cell_type": "code",
   "execution_count": null,
   "metadata": {},
   "outputs": [],
   "source": [
    "%%writefile -a api/models.py\n",
    "    \n",
    "class Project(models.Model):\n",
    "    \"\"\"A research project.\"\"\"\n",
    "    \n",
    "    name = models.CharField(\n",
    "        max_length=250,\n",
    "        help_text=\"Full name of the project\",\n",
    "    )\n",
    "    \n",
    "    abbreviation = models.CharField(\n",
    "        max_length=50,\n",
    "        help_text=\"Abbreviation of the project.\"\n",
    "    )\n",
    "    \n",
    "    pi = models.ForeignKey(\n",
    "        Person,\n",
    "        on_delete=models.PROTECT,\n",
    "        help_text=\"Principal investigator of the model.\"\n",
    "    )\n",
    "    \n",
    "    def __str__(self):\n",
    "        return f\"{self.name} ({self.abbreviation})\""
   ]
  },
  {
   "cell_type": "markdown",
   "metadata": {
    "slideshow": {
     "slide_type": "subslide"
    }
   },
   "source": [
    "## Django models\n",
    "\n",
    "and some more"
   ]
  },
  {
   "cell_type": "code",
   "execution_count": null,
   "metadata": {},
   "outputs": [],
   "source": [
    "%%writefile -a api/models.py\n",
    "\n",
    "class Dataset(models.Model):\n",
    "    \"\"\"A dataset output of a model.\"\"\"\n",
    "        \n",
    "    class DataSource(models.TextChoices):\n",
    "        \"\"\"Available data sources.\"\"\"\n",
    "\n",
    "        model = \"MODEL\", \"derived from a climate model\"\n",
    "        satellite = \"SATELLITE\", \"derived from satellite observation\"\n",
    "\n",
    "    name = models.CharField(\n",
    "        max_length=200,\n",
    "        help_text=\"Name of the dataset.\"\n",
    "    )\n",
    "    \n",
    "    source_type = models.CharField(\n",
    "        max_length=20,\n",
    "        choices=DataSource.choices,\n",
    "        help_text=\"How the data has been derived.\"\n",
    "    )\n",
    "    \n",
    "    project = models.ForeignKey(\n",
    "        Project,\n",
    "        on_delete=models.CASCADE,\n",
    "        help_text=\"The project this dataset belongs to.\"\n",
    "    )\n",
    "    \n",
    "    contact = models.ForeignKey(\n",
    "        Person,\n",
    "        on_delete=models.PROTECT,\n",
    "        help_text=\"The contact person for this dataset\",\n",
    "    )\n",
    "\n",
    "    def __str__(self):\n",
    "        return f\"{self.name} ({self.project.abbreviation})\""
   ]
  },
  {
   "cell_type": "markdown",
   "metadata": {
    "slideshow": {
     "slide_type": "subslide"
    }
   },
   "source": [
    "## Django models\n",
    "\n",
    "and some more"
   ]
  },
  {
   "cell_type": "code",
   "execution_count": null,
   "metadata": {},
   "outputs": [],
   "source": [
    "%%writefile -a api/models.py\n",
    "\n",
    "class Parameter(models.Model):\n",
    "    \"\"\"A standardized parameter in our database.\"\"\"\n",
    "\n",
    "    name = models.CharField(\n",
    "        max_length=200,\n",
    "        help_text=\"Name of the dataset.\"\n",
    "    )\n",
    "    \n",
    "    unit = models.CharField(\n",
    "        max_length=20,\n",
    "        help_text=\"Units of the parameter.\"\n",
    "    )\n",
    "    \n",
    "    long_name = models.CharField(\n",
    "        max_length=250,\n",
    "        help_text=\"Description of the parameter\"\n",
    "    )\n",
    "    \n",
    "    dataset = models.ForeignKey(\n",
    "        Dataset,\n",
    "        help_text=\"The dataset that contains this parameter\",\n",
    "        related_name=\"parameters\",\n",
    "        on_delete=models.CASCADE,\n",
    "    )\n",
    "\n",
    "    def __str__(self):\n",
    "        return f\"{self.name} ({self.unit})\""
   ]
  },
  {
   "cell_type": "markdown",
   "metadata": {
    "slideshow": {
     "slide_type": "subslide"
    }
   },
   "source": [
    "## Getting an overview\n",
    "\n",
    "`django-extensions` provide the functionality to show a graph of our models. So let's do this"
   ]
  },
  {
   "cell_type": "code",
   "execution_count": null,
   "metadata": {},
   "outputs": [],
   "source": [
    "!python manage.py graph_models api > apigraph.dot\n",
    "!dot apigraph.dot -Tsvg -o apigraph.svg"
   ]
  },
  {
   "cell_type": "code",
   "execution_count": null,
   "metadata": {
    "slideshow": {
     "slide_type": "fragment"
    }
   },
   "outputs": [],
   "source": [
    "from IPython.display import SVG\n",
    "SVG(filename=\"apigraph.svg\")"
   ]
  },
  {
   "cell_type": "markdown",
   "metadata": {
    "slideshow": {
     "slide_type": "subslide"
    }
   },
   "source": [
    "## Update the database\n",
    "\n",
    "So far, we just wrote some python. Now tell Django to register our models in the (sqlite3) database:"
   ]
  },
  {
   "cell_type": "code",
   "execution_count": null,
   "metadata": {},
   "outputs": [],
   "source": [
    "!python manage.py makemigrations  # creates the migration scripts"
   ]
  },
  {
   "cell_type": "code",
   "execution_count": null,
   "metadata": {},
   "outputs": [],
   "source": [
    "!python manage.py migrate  # creates the tables in the database"
   ]
  },
  {
   "cell_type": "markdown",
   "metadata": {
    "slideshow": {
     "slide_type": "slide"
    }
   },
   "source": [
    "## Add serializers to our models\n",
    "\n",
    "A serializer transforms your model into JSON (and more)."
   ]
  },
  {
   "cell_type": "code",
   "execution_count": null,
   "metadata": {},
   "outputs": [],
   "source": [
    "%%writefile api/serializers.py\n",
    "\n",
    "from rest_framework import serializers\n",
    "from api import models\n",
    "\n",
    "\n",
    "class InstitutionSerializer(serializers.HyperlinkedModelSerializer):\n",
    "    \n",
    "    class Meta:\n",
    "        model = models.Institution\n",
    "        fields = '__all__'\n"
   ]
  },
  {
   "cell_type": "markdown",
   "metadata": {
    "slideshow": {
     "slide_type": "subslide"
    }
   },
   "source": [
    "## And serializers for the other models"
   ]
  },
  {
   "cell_type": "code",
   "execution_count": null,
   "metadata": {
    "slideshow": {
     "slide_type": "-"
    }
   },
   "outputs": [],
   "source": [
    "%%writefile -a api/serializers.py\n",
    "\n",
    "class PersonSerializer(serializers.HyperlinkedModelSerializer):\n",
    "    \n",
    "    class Meta:\n",
    "        model = models.Person\n",
    "        fields = '__all__'\n",
    "\n",
    "\n",
    "class ProjectSerializer(serializers.HyperlinkedModelSerializer):\n",
    "    \n",
    "    class Meta:\n",
    "        model = models.Project\n",
    "        fields = '__all__'\n",
    "\n",
    "\n",
    "class DatasetSerializer(serializers.HyperlinkedModelSerializer):\n",
    "    \n",
    "    class Meta:\n",
    "        model = models.Dataset\n",
    "        fields = '__all__'\n",
    "\n",
    "\n",
    "class ParameterSerializer(serializers.HyperlinkedModelSerializer):\n",
    "    \n",
    "    class Meta:\n",
    "        model = models.Parameter\n",
    "        fields = '__all__'"
   ]
  },
  {
   "cell_type": "markdown",
   "metadata": {
    "slideshow": {
     "slide_type": "slide"
    }
   },
   "source": [
    "## Generate the viewset for the models\n",
    "\n",
    "A viewset (comparable to an HTML webpage) tells django, you to display and update the serialized models."
   ]
  },
  {
   "cell_type": "code",
   "execution_count": null,
   "metadata": {},
   "outputs": [],
   "source": [
    "%%writefile api/views.py\n",
    "\n",
    "from rest_framework import viewsets\n",
    "from rest_framework import permissions\n",
    "\n",
    "from api import models, serializers\n",
    "\n",
    "\n",
    "class InstitutionViewSet(viewsets.ModelViewSet):\n",
    "    \"\"\"View the institutions\"\"\"\n",
    "    \n",
    "    queryset = models.Institution.objects.all()\n",
    "    serializer_class = serializers.InstitutionSerializer\n"
   ]
  },
  {
   "cell_type": "markdown",
   "metadata": {
    "slideshow": {
     "slide_type": "subslide"
    }
   },
   "source": [
    "## And viewsets for the other models"
   ]
  },
  {
   "cell_type": "code",
   "execution_count": null,
   "metadata": {
    "slideshow": {
     "slide_type": "-"
    }
   },
   "outputs": [],
   "source": [
    "%%writefile -a api/views.py\n",
    "\n",
    "class PersonViewSet(viewsets.ModelViewSet):\n",
    "    \"\"\"View the institutions\"\"\"\n",
    "    \n",
    "    queryset = models.Person.objects.all()\n",
    "    serializer_class = serializers.PersonSerializer\n",
    "    \n",
    "    \n",
    "class ProjectViewSet(viewsets.ModelViewSet):\n",
    "    \"\"\"View the institutions\"\"\"\n",
    "    \n",
    "    queryset = models.Project.objects.all()\n",
    "    serializer_class = serializers.ProjectSerializer\n",
    "\n",
    "\n",
    "class DatasetViewSet(viewsets.ModelViewSet):\n",
    "    \"\"\"View the institutions\"\"\"\n",
    "    \n",
    "    queryset = models.Dataset.objects.all()\n",
    "    serializer_class = serializers.DatasetSerializer\n",
    "\n",
    "\n",
    "class ParameterViewSet(viewsets.ModelViewSet):\n",
    "    \"\"\"View the institutions\"\"\"\n",
    "    \n",
    "    queryset = models.Parameter.objects.all()\n",
    "    serializer_class = serializers.ParameterSerializer\n"
   ]
  },
  {
   "cell_type": "markdown",
   "metadata": {
    "slideshow": {
     "slide_type": "slide"
    }
   },
   "source": [
    "## Define the router\n",
    "\n",
    "We generated the webpages, but did not tell anything about where to find them.\n",
    "\n",
    "This is the job of the `router`."
   ]
  },
  {
   "cell_type": "code",
   "execution_count": null,
   "metadata": {},
   "outputs": [],
   "source": [
    "%%writefile api/urls.py\n",
    "\n",
    "from django.urls import include, path\n",
    "from rest_framework import routers\n",
    "from api import views\n",
    "\n",
    "router = routers.DefaultRouter()\n",
    "router.register(r'institutions', views.InstitutionViewSet)\n",
    "router.register(r'persons', views.PersonViewSet)\n",
    "router.register(r'projects', views.ProjectViewSet)\n",
    "router.register(r'datasets', views.DatasetViewSet)\n",
    "router.register(r'parameters', views.ParameterViewSet)\n",
    "\n",
    "# Wire up our API using automatic URL routing.\n",
    "# Additionally, we include login URLs for the browsable API.\n",
    "urlpatterns = [\n",
    "    path('', include(router.urls)),\n",
    "]"
   ]
  },
  {
   "cell_type": "markdown",
   "metadata": {
    "slideshow": {
     "slide_type": "slide"
    }
   },
   "source": [
    "## Add our `api` app to the main router file\n",
    "\n",
    "We now need to add the urls of our API to the main project."
   ]
  },
  {
   "cell_type": "code",
   "execution_count": null,
   "metadata": {},
   "outputs": [],
   "source": [
    "cat django_metadata_api/urls.py"
   ]
  },
  {
   "cell_type": "markdown",
   "metadata": {
    "slideshow": {
     "slide_type": "subslide"
    }
   },
   "source": [
    "## Add our api urls"
   ]
  },
  {
   "cell_type": "code",
   "execution_count": null,
   "metadata": {
    "slideshow": {
     "slide_type": "-"
    }
   },
   "outputs": [],
   "source": [
    "%%writefile -a django_metadata_api/urls.py\n",
    "\n",
    "from django.urls import include\n",
    "\n",
    "urlpatterns.append(path('', include(\"api.urls\")))"
   ]
  },
  {
   "cell_type": "markdown",
   "metadata": {
    "slideshow": {
     "slide_type": "slide"
    }
   },
   "source": [
    "## Starting django\n",
    "\n",
    "Now run\n",
    "\n",
    "```bash\n",
    "python manage.py runserver\n",
    "```\n",
    "\n",
    "in an external terminal to start the development server and head over to http://127.0.0.1:8000"
   ]
  },
  {
   "cell_type": "markdown",
   "metadata": {
    "slideshow": {
     "slide_type": "slide"
    }
   },
   "source": [
    "## Add the parameters to the dataset"
   ]
  },
  {
   "cell_type": "code",
   "execution_count": null,
   "metadata": {},
   "outputs": [],
   "source": [
    "%%writefile -a api/serializers.py\n",
    "\n",
    "\n",
    "class DatasetSerializer(serializers.HyperlinkedModelSerializer):\n",
    "    \n",
    "    parameters = ParameterSerializer(many=True)\n",
    "    \n",
    "    class Meta:\n",
    "        model = models.Dataset\n",
    "        fields = '__all__'"
   ]
  },
  {
   "cell_type": "markdown",
   "metadata": {},
   "source": [
    "Checkout the changes at http://127.0.0.1:8000/datasets"
   ]
  },
  {
   "cell_type": "markdown",
   "metadata": {
    "slideshow": {
     "slide_type": "slide"
    }
   },
   "source": [
    "## Enable the admin interface"
   ]
  },
  {
   "cell_type": "code",
   "execution_count": null,
   "metadata": {},
   "outputs": [],
   "source": [
    "!cat api/admin.py"
   ]
  },
  {
   "cell_type": "code",
   "execution_count": null,
   "metadata": {},
   "outputs": [],
   "source": [
    "%%writefile api/admin.py\n",
    "\n",
    "from django.contrib import admin\n",
    "from api import models\n",
    "\n",
    "\n",
    "class ParameterInline(admin.TabularInline):\n",
    "    model = models.Parameter\n",
    "\n",
    "\n",
    "@admin.register(models.Dataset)\n",
    "class DatasetAdmin(admin.ModelAdmin):\n",
    "    \"\"\"Administration class for the :model:`api.Dataset` model.\"\"\"\n",
    "\n",
    "    inlines = [ParameterInline]\n",
    "\n",
    "    search_fields = [\"name\", \"project\"]"
   ]
  },
  {
   "cell_type": "markdown",
   "metadata": {
    "slideshow": {
     "slide_type": "subslide"
    }
   },
   "source": [
    "## Create a user to access the admin interface\n",
    "\n",
    "Open a terminal and run\n",
    "\n",
    "```\n",
    "python manage.py createsuperuser --email admin@example.com --username admin\n",
    "```"
   ]
  },
  {
   "cell_type": "markdown",
   "metadata": {
    "slideshow": {
     "slide_type": "fragment"
    }
   },
   "source": [
    "And checkout http://127.0.0.1:8000/admin"
   ]
  },
  {
   "cell_type": "markdown",
   "metadata": {
    "slideshow": {
     "slide_type": "slide"
    }
   },
   "source": [
    "## Restrict PUT and POST to authenticated users\n",
    "\n",
    "Djangos Rest framework comes with a login and logout functionality that we need to insert into our projects `urls.py` router file."
   ]
  },
  {
   "cell_type": "code",
   "execution_count": null,
   "metadata": {
    "scrolled": true
   },
   "outputs": [],
   "source": [
    "%%writefile -a django_metadata_api/urls.py\n",
    "\n",
    "urlpatterns.insert(\n",
    "    -2, path('api-auth/', include('rest_framework.urls', namespace='rest_framework'))\n",
    ")"
   ]
  },
  {
   "cell_type": "markdown",
   "metadata": {
    "slideshow": {
     "slide_type": "subslide"
    }
   },
   "source": [
    "## Add the permission to our viewsets"
   ]
  },
  {
   "cell_type": "code",
   "execution_count": null,
   "metadata": {},
   "outputs": [],
   "source": [
    "%%writefile -a api/views.py\n",
    "\n",
    "for view in [PersonViewSet, DatasetViewSet, InstitutionViewSet, ProjectViewSet, ParameterViewSet]:\n",
    "    view.permission_classes = [permissions.IsAuthenticatedOrReadOnly]"
   ]
  },
  {
   "cell_type": "markdown",
   "metadata": {
    "slideshow": {
     "slide_type": "fragment"
    }
   },
   "source": [
    "Now you'll see that you cannot make POST requests anymore to http://127.0.0.1:8000/datasets (for instance).\n",
    "\n",
    "Login at http://127.0.0.1:8000/api-auth/login and it will be possible again."
   ]
  },
  {
   "cell_type": "markdown",
   "metadata": {
    "slideshow": {
     "slide_type": "slide"
    }
   },
   "source": [
    "## Export the schema\n",
    "\n",
    "Now we can export our database schema to show others, how our RestAPI is structured. For this purpose, we add a new view to our api."
   ]
  },
  {
   "cell_type": "code",
   "execution_count": null,
   "metadata": {},
   "outputs": [],
   "source": [
    "%%writefile -a api/urls.py\n",
    "\n",
    "from rest_framework.schemas import get_schema_view\n",
    "\n",
    "urlpatterns.append(\n",
    "    path('schema', get_schema_view(\n",
    "        title=\"Metadata Portal\",\n",
    "        description=\"API for retrieving metadata\",\n",
    "        version=\"1.0.0\",\n",
    "        urlconf='api.urls',\n",
    "    ), name='openapi-schema'),\n",
    ")"
   ]
  },
  {
   "cell_type": "markdown",
   "metadata": {
    "slideshow": {
     "slide_type": "fragment"
    }
   },
   "source": [
    "Head over to http://127.0.0.1:8000/schema to see the results"
   ]
  },
  {
   "cell_type": "markdown",
   "metadata": {},
   "source": [
    "## The END\n",
    "\n",
    "That's it. Now you have a well-defined and functional RestAPI with just a few lines of code!"
   ]
  }
 ],
 "metadata": {
  "celltoolbar": "Slideshow",
  "jupytext": {
   "formats": "ipynb"
  },
  "kernelspec": {
   "display_name": "Python 3",
   "language": "python",
   "name": "python3"
  },
  "language_info": {
   "codemirror_mode": {
    "name": "ipython",
    "version": 3
   },
   "file_extension": ".py",
   "mimetype": "text/x-python",
   "name": "python",
   "nbconvert_exporter": "python",
   "pygments_lexer": "ipython3",
   "version": "3.7.6"
  },
  "rise": {
   "autolaunch": true,
   "footer": "<h3>MareHUB Raster Metadata Workshop, October 15th, 2020 &ndash; Django RestAPI &ndash; <a href='mailto:philipp.sommer@hzg.de'>Philipp S. Sommer</a> <a href='https://hzg.de', target='_blank'><img src='img/logo_hzg_rgb_deutsch.jpeg' alt='HZG' /></a></h3>",
   "scroll": true
  }
 },
 "nbformat": 4,
 "nbformat_minor": 4
}
